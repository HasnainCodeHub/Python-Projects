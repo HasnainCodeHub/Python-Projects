{
  "nbformat": 4,
  "nbformat_minor": 0,
  "metadata": {
    "colab": {
      "provenance": []
    },
    "kernelspec": {
      "name": "python3",
      "display_name": "Python 3"
    },
    "language_info": {
      "name": "python"
    }
  },
  "cells": [
    {
      "cell_type": "code",
      "execution_count": null,
      "metadata": {
        "colab": {
          "base_uri": "https://localhost:8080/"
        },
        "id": "4gCfs1E2SjnK",
        "outputId": "04ecac0c-4866-4451-d804-e9e59a1337f8"
      },
      "outputs": [
        {
          "output_type": "stream",
          "name": "stdout",
          "text": [
            "Welcome To hasnain's Coding World\n",
            "========================================\n",
            "\n",
            "=== Welcome to the ATM ===\n",
            "1. Check Balance\n",
            "2. Deposit Money\n",
            "3. Withdraw Money\n",
            "4. Fast Cash\n",
            "5. Exit\n"
          ]
        }
      ],
      "source": [
        "print(\"Welcome To hasnain's Coding World\")\n",
        "print('=' * 40)\n",
        "\n",
        "class ATM:\n",
        "    def __init__(self):\n",
        "        self.balance = 10000  # Starting with an initial balance of $10000\n",
        "\n",
        "    def check_balance(self):\n",
        "        print(f\"Your balance is: ${self.balance}\")\n",
        "\n",
        "    def deposit(self, amount):\n",
        "        if amount > 0:\n",
        "            self.balance += amount\n",
        "            print(f\"You deposited ${amount}. Your new balance is ${self.balance}.\")\n",
        "        else:\n",
        "            print(\"You need to deposit an amount greater than zero.\")\n",
        "\n",
        "    def withdraw(self, amount):\n",
        "        if amount <= self.balance:\n",
        "            self.balance -= amount\n",
        "            print(f\"You withdrew ${amount}. Your new balance is ${self.balance}.\")\n",
        "        else:\n",
        "            print(\"You don't have enough balance to withdraw that amount.\")\n",
        "\n",
        "    def fast_cash(self):\n",
        "        while True:\n",
        "            print(\"\\n=== Fast Cash Options ===\")\n",
        "            print(\"1. Withdraw $1000\")\n",
        "            print(\"2. Withdraw $2000\")\n",
        "            print(\"3. Withdraw $3000\")\n",
        "            print(\"4. Withdraw $4000\")\n",
        "            print(\"5. Cancel Fast Cash\")\n",
        "\n",
        "            option = input(\"Choose an option (1-5): \")\n",
        "\n",
        "            if option == '1':\n",
        "                self.withdraw(1000)\n",
        "            elif option == '2':\n",
        "                self.withdraw(2000)\n",
        "            elif option == '3':\n",
        "                self.withdraw(3000)\n",
        "            elif option == '4':\n",
        "                self.withdraw(4000)\n",
        "            elif option == '5':\n",
        "                print(\"Fast cash cancelled.\")\n",
        "                break\n",
        "            else:\n",
        "                print(\"Invalid option. Please choose a number between 1 and 5.\")\n",
        "\n",
        "def atm_menu():\n",
        "    atm = ATM()  # Create an ATM instance with a balance of $10000\n",
        "    while True:\n",
        "        print(\"\\n=== Welcome to the ATM ===\")\n",
        "        print(\"1. Check Balance\")\n",
        "        print(\"2. Deposit Money\")\n",
        "        print(\"3. Withdraw Money\")\n",
        "        print(\"4. Fast Cash\")\n",
        "        print(\"5. Exit\")\n",
        "\n",
        "        choice = input(\"Choose an option (1-5): \")\n",
        "\n",
        "        if choice == '1':\n",
        "            atm.check_balance()\n",
        "        elif choice == '2':\n",
        "            amount = float(input(\"Enter the amount to deposit: \"))\n",
        "            atm.deposit(amount)\n",
        "        elif choice == '3':\n",
        "            amount = float(input(\"Enter the amount to withdraw: \"))\n",
        "            atm.withdraw(amount)\n",
        "        elif choice == '4':\n",
        "            atm.fast_cash()  # Call the fast cash feature\n",
        "        elif choice == '5':\n",
        "            print(\"Thank you for using the ATM. Goodbye!\")\n",
        "            break\n",
        "        else:\n",
        "            print(\"Invalid choice. Please choose a number between 1 and 5.\")\n",
        "\n",
        "# Run the ATM menu\n",
        "atm_menu()\n"
      ]
    },
    {
      "cell_type": "code",
      "source": [
        "\n"
      ],
      "metadata": {
        "id": "ikegf6YDTTUm"
      },
      "execution_count": 9,
      "outputs": []
    }
  ]
}