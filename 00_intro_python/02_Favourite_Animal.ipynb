{
  "nbformat": 4,
  "nbformat_minor": 0,
  "metadata": {
    "colab": {
      "provenance": []
    },
    "kernelspec": {
      "name": "python3",
      "display_name": "Python 3"
    },
    "language_info": {
      "name": "python"
    }
  },
  "cells": [
    {
      "cell_type": "code",
      "execution_count": 4,
      "metadata": {
        "colab": {
          "base_uri": "https://localhost:8080/"
        },
        "id": "sjtwsmwgqsgG",
        "outputId": "3d4cc64f-bac4-473e-dcdd-8311f54e7b90"
      },
      "outputs": [
        {
          "output_type": "stream",
          "name": "stdout",
          "text": [
            "Welcome To Hasnain's Coding World\n",
            "A Program Which Ask The User For their Fav Animal\n",
            "What is Your Name?Hasnain Ali\n",
            "What Is Your Favourite Animal?Cat\n",
            " Hey Hasnain Ali! Your Favourite Animal Is Cat\n"
          ]
        }
      ],
      "source": [
        "def main():\n",
        "  print(\"Welcome To Hasnain's Coding World\")\n",
        "  print(\"A Program Which Ask The User For their Fav Animal\")\n",
        "  uname:str = input(\"What is Your Name?\")\n",
        "  animal:str = input(\"What Is Your Favourite Animal?\")\n",
        "  print(f\" Hey {uname}! Your Favourite Animal Is {animal}\")\n",
        "\n",
        "if __name__ == \"__main__\":\n",
        "  main()"
      ]
    }
  ]
}