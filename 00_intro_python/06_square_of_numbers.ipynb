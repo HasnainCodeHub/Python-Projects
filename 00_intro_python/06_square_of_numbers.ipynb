{
  "nbformat": 4,
  "nbformat_minor": 0,
  "metadata": {
    "colab": {
      "provenance": []
    },
    "kernelspec": {
      "name": "python3",
      "display_name": "Python 3"
    },
    "language_info": {
      "name": "python"
    }
  },
  "cells": [
    {
      "cell_type": "code",
      "execution_count": 5,
      "metadata": {
        "colab": {
          "base_uri": "https://localhost:8080/"
        },
        "id": "FHz5zY5714B0",
        "outputId": "60e4c0bd-c53b-42db-fffc-075226bfd5c2"
      },
      "outputs": [
        {
          "output_type": "stream",
          "name": "stdout",
          "text": [
            "Welcome To Hasnain's Coding World!\n",
            "Enter Any Number And Find The Square \n",
            "============================================\n",
            "Enter The Number Which you Want to Find Square 32\n",
            "32.0 Square Is 1024.0\n"
          ]
        }
      ],
      "source": [
        "def main():\n",
        "\n",
        "    print(\"Welcome To Hasnain's Coding World!\")\n",
        "    print(\"Enter Any Number And Find The Square \")\n",
        "    print(\"============================================\")\n",
        "    user : float = float(input(\"Enter The Number Which you Want to Find Square \"))\n",
        "    print(str(user) + \" Square Is \" + str(user**2))\n",
        "\n",
        "\n",
        "\n",
        "if __name__ == '__main__':\n",
        "    main()"
      ]
    }
  ]
}