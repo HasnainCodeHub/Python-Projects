{
  "nbformat": 4,
  "nbformat_minor": 0,
  "metadata": {
    "colab": {
      "provenance": []
    },
    "kernelspec": {
      "name": "python3",
      "display_name": "Python 3"
    },
    "language_info": {
      "name": "python"
    }
  },
  "cells": [
    {
      "cell_type": "code",
      "execution_count": 2,
      "metadata": {
        "colab": {
          "base_uri": "https://localhost:8080/"
        },
        "id": "zTZyY6f3s_tY",
        "outputId": "b671c0bc-543f-4d75-bd04-222cf353c151"
      },
      "outputs": [
        {
          "output_type": "stream",
          "name": "stdout",
          "text": [
            "Welcome To Hasnain's Coding World\n",
            "This is A Temperature Converter Program\n",
            "Enter the temperature in Fahrenheit: 500\n",
            "500.0 degrees Fahrenheit is equal to 260.00 degrees Celsius.\n"
          ]
        }
      ],
      "source": [
        "# Function to convert Fahrenheit to Celsius\n",
        "def fahrenheit_to_celsius(fahrenheit):\n",
        "    return (fahrenheit - 32) * 5 / 9\n",
        "\n",
        "# Prompt the user for a temperature in Fahrenheit\n",
        "print(\"Welcome To Hasnain's Coding World\")\n",
        "print(\"This is A Temperature Converter Program\")\n",
        "fahrenheit = float(input(\"Enter the temperature in Fahrenheit: \"))\n",
        "\n",
        "# Convert the input to Celsius\n",
        "celsius = fahrenheit_to_celsius(fahrenheit)\n",
        "\n",
        "# Output the temperature in Celsius\n",
        "print(f\"{fahrenheit} degrees Fahrenheit is equal to {celsius:.2f} degrees Celsius.\")\n"
      ]
    }
  ]
}