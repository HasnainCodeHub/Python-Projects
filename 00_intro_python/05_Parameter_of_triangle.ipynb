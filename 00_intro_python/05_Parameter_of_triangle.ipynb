{
  "nbformat": 4,
  "nbformat_minor": 0,
  "metadata": {
    "colab": {
      "provenance": []
    },
    "kernelspec": {
      "name": "python3",
      "display_name": "Python 3"
    },
    "language_info": {
      "name": "python"
    }
  },
  "cells": [
    {
      "cell_type": "code",
      "execution_count": 2,
      "metadata": {
        "colab": {
          "base_uri": "https://localhost:8080/"
        },
        "id": "dVrI_QaOzmNk",
        "outputId": "3f175460-27f2-4e3c-80e3-72a57b230494"
      },
      "outputs": [
        {
          "output_type": "stream",
          "name": "stdout",
          "text": [
            "Welcome To Hasnain's Coding World!\n",
            "This Is a Program Which Calculate The Parameters Of Triangle\n",
            "What Is The Length Of This Side?4.5\n",
            "What Is The Length Of Second Side?3\n",
            "What Is The Length Of Third Side?6\n",
            "The Parameter Of Your Triangle is 4.536\n"
          ]
        }
      ],
      "source": [
        "def main ():\n",
        "  print(\"Welcome To Hasnain's Coding World!\")\n",
        "  print(\"This Is a Program Which Calculate The Parameters Of Triangle\")\n",
        "\n",
        "  first_value : float = input(\"What Is The Length Of This Side?\")\n",
        "  second_value : float = input(\"What Is The Length Of Second Side?\")\n",
        "  third_value : float = input(\"What Is The Length Of Third Side?\")\n",
        "\n",
        "  print(f\"The Parameter Of Your Triangle is \" + str(first_value + second_value + third_value))\n",
        "  print(\"Thank You For Using My Program\")\n",
        "if __name__ == '__main__':\n",
        "    main()"
      ]
    }
  ]
}