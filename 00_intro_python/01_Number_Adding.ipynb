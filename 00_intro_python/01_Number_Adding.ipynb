{
  "nbformat": 4,
  "nbformat_minor": 0,
  "metadata": {
    "colab": {
      "provenance": []
    },
    "kernelspec": {
      "name": "python3",
      "display_name": "Python 3"
    },
    "language_info": {
      "name": "python"
    }
  },
  "cells": [
    {
      "cell_type": "code",
      "execution_count": 2,
      "metadata": {
        "colab": {
          "base_uri": "https://localhost:8080/"
        },
        "id": "DDskJzCVokr1",
        "outputId": "4c614744-c2ab-4292-e977-4ff81145ba26"
      },
      "outputs": [
        {
          "output_type": "stream",
          "name": "stdout",
          "text": [
            "This is a Number Adding Program\n",
            "Enter First Number: 3216\n",
            "Enter Second Number: 213123\n",
            "The Total number is: 216339\n"
          ]
        }
      ],
      "source": [
        "# Project 01\n",
        "def main():\n",
        "  print(\"This is a Number Adding Program\")\n",
        "  num1:int = int(input(\"Enter First Number: \"))\n",
        "  num1:int = int(num1)\n",
        "  num2:int = int(input(\"Enter Second Number: \"))\n",
        "  num2:int = int(num2)\n",
        "  result:int = num1 + num2\n",
        "  print(f\"The Total number is: {result}\")\n",
        "\n",
        "if __name__ == \"__main__\":\n",
        "  main()\n",
        ""
      ]
    }
  ]
}