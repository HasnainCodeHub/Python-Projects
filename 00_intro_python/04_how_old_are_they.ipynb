{
  "nbformat": 4,
  "nbformat_minor": 0,
  "metadata": {
    "colab": {
      "provenance": []
    },
    "kernelspec": {
      "name": "python3",
      "display_name": "Python 3"
    },
    "language_info": {
      "name": "python"
    }
  },
  "cells": [
    {
      "cell_type": "code",
      "execution_count": 14,
      "metadata": {
        "colab": {
          "base_uri": "https://localhost:8080/"
        },
        "id": "7vfkMDhCujY-",
        "outputId": "f8103baa-7444-487b-9acb-42ac28dabe3c"
      },
      "outputs": [
        {
          "output_type": "stream",
          "name": "stdout",
          "text": [
            "Welcome To Hasnain's Coding World!\n",
            "Enter Anyone Name Of Them Anthon,Beth,Chen,Drew,Ethan: Ethan\n",
            "The Name You Enter Is Ethan,And He is 47 Years Old\n"
          ]
        }
      ],
      "source": [
        "def main():\n",
        "    print(\"Welcome To Hasnain's Coding World!\")\n",
        "\n",
        "    # Defining variables correctly\n",
        "    Anthon: int = 21\n",
        "    Beth: int = Anthon + 6\n",
        "    Chen: int = Beth + 20  # 'beth' should be 'Beth'\n",
        "    Drew: int = Chen + Anthon\n",
        "    Ethan: int = Chen\n",
        "\n",
        "    # Taking user input for the name\n",
        "    user = input(\"Enter Anyone Name Of Them Anthon,Beth,Chen,Drew,Ethan: \")\n",
        "\n",
        "    # Check if the user's name is \"Anthon\"\n",
        "    if user == \"Anthon\":\n",
        "        print(f\"Hey {user}, Your Age is {Anthon}\")\n",
        "    elif user == \"Beth\":\n",
        "      print(f\"Hey {user}, Your Age is {Beth}\")\n",
        "    elif user == \"Chen\":\n",
        "      print(f\"Hey {user}, Your Age is {Chen}\")\n",
        "    elif user == \"Drew\":\n",
        "      print(f\"Hey {user}, Your Age is {Drew}\")\n",
        "    elif user == \"Ethan\":\n",
        "      print(f\"The Name You Enter Is {user},And He is {Ethan} Years Old\")\n",
        "    else:\n",
        "        print(\"Name Does Not Exist\")\n",
        "\n",
        "# Ensure the main function is called correctly\n",
        "if __name__ == \"__main__\":\n",
        "    main()\n"
      ]
    }
  ]
}