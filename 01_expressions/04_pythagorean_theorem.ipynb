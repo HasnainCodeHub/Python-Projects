{
  "nbformat": 4,
  "nbformat_minor": 0,
  "metadata": {
    "colab": {
      "provenance": []
    },
    "kernelspec": {
      "name": "python3",
      "display_name": "Python 3"
    },
    "language_info": {
      "name": "python"
    }
  },
  "cells": [
    {
      "cell_type": "code",
      "execution_count": 3,
      "metadata": {
        "colab": {
          "base_uri": "https://localhost:8080/"
        },
        "id": "1YeKsgFw0tyJ",
        "outputId": "96ac2b6e-3d73-40ab-c144-22c44498c99b"
      },
      "outputs": [
        {
          "output_type": "stream",
          "name": "stdout",
          "text": [
            "Welcome To Hasnain's Coding World\n",
            "======================================\n",
            "Enter the Length Of AB: 5.65\n",
            "Enter the Length Of BC: 6.55\n",
            "======================================\n",
            "The Length Of CA Is:  9\n",
            "======================================\n"
          ]
        }
      ],
      "source": [
        "import math  # Import the math library so we can use the sqrt function\n",
        "\n",
        "print(\"Welcome To Hasnain's Coding World\")\n",
        "print(\"======================================\")\n",
        "\n",
        "def main():\n",
        "  ab : float = float(input(\"Enter the Length Of AB: \"))\n",
        "  bc : float = float(input(\"Enter the Length Of BC: \"))\n",
        "  ca : float = math.sqrt(ab**2 + bc**2)\n",
        "  print(\"======================================\")\n",
        "\n",
        "  print(\"The Length Of CA Is: \", round(ca))\n",
        "  print(\"======================================\")\n",
        "\n",
        "if __name__ == \"__main__\":\n",
        "  main()\n",
        "\n"
      ]
    }
  ]
}