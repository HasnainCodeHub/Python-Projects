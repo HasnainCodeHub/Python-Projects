{
  "nbformat": 4,
  "nbformat_minor": 0,
  "metadata": {
    "colab": {
      "provenance": []
    },
    "kernelspec": {
      "name": "python3",
      "display_name": "Python 3"
    },
    "language_info": {
      "name": "python"
    }
  },
  "cells": [
    {
      "cell_type": "code",
      "execution_count": 2,
      "metadata": {
        "colab": {
          "base_uri": "https://localhost:8080/"
        },
        "id": "PeTYBgf327Qr",
        "outputId": "0cc9995c-1973-48a4-8c12-00f235b53cd1"
      },
      "outputs": [
        {
          "output_type": "stream",
          "name": "stdout",
          "text": [
            "Welcome To Hasnain's Coding World\n",
            "==================================\n",
            "Enter The Number You Want to Divide : 85\n",
            "==================================\n",
            "Enter The Number You Want to Divided By : 50\n",
            "==================================\n",
            "The Division Of Your Given Number is: 1\n",
            "The Remainder Of Your Given Number is: 35\n"
          ]
        }
      ],
      "source": [
        "print(\"Welcome To Hasnain's Coding World\")\n",
        "print(\"==================================\")\n",
        "\n",
        "def main():\n",
        "  division: int = int(input(\"Enter The Number You Want to Divide : \"))\n",
        "  print(\"==================================\")\n",
        "  divider: int = int(input(\"Enter The Number You Want to Divided By : \"))\n",
        "\n",
        "  quetont: int = division // divider    # Dividing Numbers\n",
        "  remainder: int = division % divider   # Reminder Of Numbers\n",
        "  print(\"==================================\")\n",
        "  print(\"The Division Of Your Given Number is: \" + str(quetont))\n",
        "  print(\"The Remainder Of Your Given Number is: \" + str(remainder))\n",
        "\n",
        "if __name__ == \"__main__\":\n",
        "  main()\n",
        "\n"
      ]
    }
  ]
}