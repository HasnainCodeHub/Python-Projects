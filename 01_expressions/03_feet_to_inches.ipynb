{
  "nbformat": 4,
  "nbformat_minor": 0,
  "metadata": {
    "colab": {
      "provenance": []
    },
    "kernelspec": {
      "name": "python3",
      "display_name": "Python 3"
    },
    "language_info": {
      "name": "python"
    }
  },
  "cells": [
    {
      "cell_type": "code",
      "execution_count": 6,
      "metadata": {
        "colab": {
          "base_uri": "https://localhost:8080/"
        },
        "id": "yUvEcePwtqUY",
        "outputId": "8f602d5c-eb45-432d-ac03-8be5c8827e9f"
      },
      "outputs": [
        {
          "output_type": "stream",
          "name": "stdout",
          "text": [
            "Welcome To Hasnain's Coding World\n",
            "===================================\n",
            "This Program Convert the Number Of Feet Into Inches\n",
            "===================================\n",
            "Enter The Number Of Feet You Want to Convert In Inches 50\n",
            "===================================\n",
            "50 Feet = 600.0 Inches\n"
          ]
        }
      ],
      "source": [
        "print(\"Welcome To Hasnain's Coding World\")\n",
        "print(\"===================================\")\n",
        "\n",
        "print(\"This Program Convert the Number Of Feet Into Inches\")\n",
        "print(\"===================================\")\n",
        "\n",
        "INCHES : int = 12\n",
        "\n",
        "def main():\n",
        "  feet : float = input(\"Enter The Number Of Feet You Want to Convert In Inches \")\n",
        "  print(\"===================================\")\n",
        "\n",
        "  inches : float = float(feet) * INCHES\n",
        "  print( feet + \" Feet = \" + str(inches) + \" Inches\" )\n",
        "\n",
        "if __name__ == \"__main__\":\n",
        "  main()\n"
      ]
    }
  ]
}