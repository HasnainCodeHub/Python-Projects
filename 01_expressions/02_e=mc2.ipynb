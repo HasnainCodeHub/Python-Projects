{
  "nbformat": 4,
  "nbformat_minor": 0,
  "metadata": {
    "colab": {
      "provenance": []
    },
    "kernelspec": {
      "name": "python3",
      "display_name": "Python 3"
    },
    "language_info": {
      "name": "python"
    }
  },
  "cells": [
    {
      "cell_type": "code",
      "execution_count": 12,
      "metadata": {
        "colab": {
          "base_uri": "https://localhost:8080/"
        },
        "id": "s4Ue0aIyoj9L",
        "outputId": "e658bb3a-c114-439a-9efa-c35e769537d7"
      },
      "outputs": [
        {
          "output_type": "stream",
          "name": "stdout",
          "text": [
            "Welcome To Hasnain's Coding World\n",
            "=======================================\n",
            "Enter The Mass In Kg: 4\n",
            "=======================================\n",
            "=======================================\n",
            "e = m * c**2\n",
            "m = 4.0\n",
            "c = 299792458\n",
            "=======================================\n",
            "Energy In Joules Is: 3.5950207149472704e+17\n"
          ]
        }
      ],
      "source": [
        "print(\"Welcome To Hasnain's Coding World\")\n",
        "print(\"=======================================\")\n",
        "C:int = 299792458  #The Speed Of Light In m/s you can google it\n",
        "\n",
        "def main():\n",
        "  mass_in_kg:float = float(input(\"Enter The Mass In Kg: \"))\n",
        "  print(\"=======================================\")\n",
        "\n",
        "  energy_in_joules:float = mass_in_kg * ( C ** 2 )\n",
        "  print(\"=======================================\")\n",
        "\n",
        "  # Displaying How Program Works\n",
        "  print(\"e = m * c**2\")\n",
        "  print(\"m\" + \" = \" + str(mass_in_kg))\n",
        "  print(\"c\" + \" = \" + str(C))\n",
        "\n",
        "  print(\"=======================================\")\n",
        "  print(\"Energy In Joules Is: \" + str(energy_in_joules))\n",
        "\n",
        "if __name__ == '__main__' :\n",
        "    main()\n",
        "\n",
        "\n",
        "\n",
        "\n",
        ""
      ]
    }
  ]
}