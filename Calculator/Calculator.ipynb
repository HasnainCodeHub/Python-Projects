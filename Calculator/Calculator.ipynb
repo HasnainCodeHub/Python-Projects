{
  "nbformat": 4,
  "nbformat_minor": 0,
  "metadata": {
    "colab": {
      "provenance": []
    },
    "kernelspec": {
      "name": "python3",
      "display_name": "Python 3"
    },
    "language_info": {
      "name": "python"
    }
  },
  "cells": [
    {
      "cell_type": "code",
      "execution_count": 7,
      "metadata": {
        "colab": {
          "base_uri": "https://localhost:8080/"
        },
        "id": "NaEi66Jh417o",
        "outputId": "2def1dd2-ce27-40bb-c397-939da60b2cad"
      },
      "outputs": [
        {
          "output_type": "stream",
          "name": "stdout",
          "text": [
            "Welcome To Hasnain's Coding World\n",
            "=================================\n",
            "Simple Calculator\n",
            "=================================\n",
            "Enter your First Number :854\n",
            "=================================\n",
            "Enter your Second Number :654\n",
            "=================================\n",
            "Choosing Operator\n",
            "1. Addition\n",
            "2. Subtraction\n",
            "3. Multiplication\n",
            "4. Division\n",
            "Choose The Operation You Want By Enter (1-4) 3\n",
            "558516\n"
          ]
        }
      ],
      "source": [
        "print(\"Welcome To Hasnain's Coding World\")\n",
        "print(\"=================================\")\n",
        "print(\"Simple Calculator\")\n",
        "print(\"=================================\")\n",
        "\n",
        "def main():\n",
        "  while True:\n",
        "    try:\n",
        "      first_number: int = int(input(\"Enter your First Number :\"))\n",
        "      break  # Exit the loop if the input is valid\n",
        "    except ValueError:\n",
        "      print(\"Please Enter A Valid Number\")\n",
        "      continue\n",
        "\n",
        "  print(\"=================================\")\n",
        "\n",
        "  while True:\n",
        "    try:\n",
        "      second_number: int = int(input(\"Enter your Second Number :\"))\n",
        "      break  # Exit the loop if the input is valid\n",
        "    except ValueError:\n",
        "      print(\"Please Enter A Valid Number\")\n",
        "      continue\n",
        "\n",
        "  print(\"=================================\")\n",
        "  print(\"Choosing Operator\")\n",
        "  print(\"1. Addition\")\n",
        "  print(\"2. Subtraction\")\n",
        "  print(\"3. Multiplication\")\n",
        "  print(\"4. Division\")\n",
        "\n",
        "  while True:\n",
        "    try:\n",
        "      choice: int = int(input(\"Choose The Operation You Want By Enter (1-4) \"))\n",
        "      break  # Exit the loop if the input is valid\n",
        "    except ValueError:\n",
        "      print(\"Please Enter A Valid Number\")\n",
        "      continue\n",
        "\n",
        "  if choice == 1:\n",
        "    print(first_number + second_number)\n",
        "  elif choice == 2:\n",
        "    print(first_number - second_number)\n",
        "  elif choice == 3:\n",
        "    print(first_number * second_number)\n",
        "  elif choice == 4:\n",
        "    try:\n",
        "      print(first_number / second_number)\n",
        "    except ZeroDivisionError:\n",
        "      print(\"Cannot Divide By Zero\")\n",
        "  else:\n",
        "    print(\"Please Select A Valid Number Of Operator\")\n",
        "\n",
        "\n",
        "if __name__ == \"__main__\":\n",
        "  main()"
      ]
    }
  ]
}