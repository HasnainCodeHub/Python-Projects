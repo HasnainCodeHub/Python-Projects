{
  "nbformat": 4,
  "nbformat_minor": 0,
  "metadata": {
    "colab": {
      "provenance": []
    },
    "kernelspec": {
      "name": "python3",
      "display_name": "Python 3"
    },
    "language_info": {
      "name": "python"
    }
  },
  "cells": [
    {
      "cell_type": "code",
      "execution_count": 10,
      "metadata": {
        "colab": {
          "base_uri": "https://localhost:8080/"
        },
        "id": "NaEi66Jh417o",
        "outputId": "81804842-766d-43d1-e9f2-a399a588dfea"
      },
      "outputs": [
        {
          "output_type": "stream",
          "name": "stdout",
          "text": [
            "Welcome To Hasnain's Coding World\n",
            "=================================\n",
            "Cli Based Simple Calculator\n",
            "=================================\n",
            "Enter your First Number :50\n",
            "=================================\n",
            "Enter your Second Number :60\n",
            "=================================\n",
            "Choosing Operator\n",
            "1. Addition\n",
            "2. Subtraction\n",
            "3. Multiplication\n",
            "4. Division\n",
            "Choose The Operation You Want By Enter (1-4) 6\n",
            "Please Select A Valid Number Of Operator\n"
          ]
        }
      ],
      "source": [
        "print(\"Welcome To Hasnain's Coding World\")\n",
        "print(\"=================================\")\n",
        "print(\"Cli Based Simple Calculator\")\n",
        "print(\"=================================\")\n",
        "\n",
        "def main():\n",
        "  first_number : int = int(input(\"Enter your First Number :\"))\n",
        "  print(\"=================================\")\n",
        "\n",
        "  second_number : int = int(input(\"Enter your Second Number :\"))\n",
        "  print(\"=================================\")\n",
        "  print(\"Choosing Operator\")\n",
        "  print(\"1. Addition\")\n",
        "  print(\"2. Subtraction\")\n",
        "  print(\"3. Multiplication\")\n",
        "  print(\"4. Division\")\n",
        "  choice : int = int(input(\"Choose The Operation You Want By Enter (1-4) \"))\n",
        "\n",
        "  if choice == 1:\n",
        "    print( first_number  + second_number)\n",
        "  elif choice == 2:\n",
        "    print( first_number  - second_number)\n",
        "  elif choice == 3:\n",
        "    print( first_number  * second_number)\n",
        "  elif choice == 4:\n",
        "    print( first_number  / second_number)\n",
        "  else:\n",
        "    print(\"Please Select A Valid Number Of Operator\")\n",
        "if __name__ == \"__main__\":\n",
        "  main()"
      ]
    }
  ]
}